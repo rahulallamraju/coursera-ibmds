{
 "cells": [
  {
   "cell_type": "markdown",
   "metadata": {},
   "source": [
    "<p style=\"text-align:center\">\n",
    "    <a href=\"https://skills.network\" target=\"_blank\">\n",
    "    <img src=\"https://cf-courses-data.s3.us.cloud-object-storage.appdomain.cloud/assets/logos/SN_web_lightmode.png\" width=\"200\" alt=\"Skills Network Logo\">\n",
    "    </a>\n",
    "</p>\n",
    "\n",
    "<h1 align=center><font size = 5>Assignment: SQL Notebook for Peer Assignment</font></h1>\n",
    "\n",
    "Estimated time needed: **60** minutes.\n",
    "\n",
    "## Introduction\n",
    "Using this Python notebook you will:\n",
    "\n",
    "1.  Understand the Spacex DataSet\n",
    "2.  Load the dataset  into the corresponding table in a Db2 database\n",
    "3.  Execute SQL queries to answer assignment questions \n"
   ]
  },
  {
   "cell_type": "markdown",
   "metadata": {},
   "source": [
    "## Overview of the DataSet\n",
    "\n",
    "SpaceX has gained worldwide attention for a series of historic milestones. \n",
    "\n",
    "It is the only private company ever to return a spacecraft from low-earth orbit, which it first accomplished in December 2010.\n",
    "SpaceX advertises Falcon 9 rocket launches on its website with a cost of 62 million dollars wheras other providers cost upward of 165 million dollars each, much of the savings is because Space X can reuse the first stage. \n",
    "\n",
    "\n",
    "Therefore if we can determine if the first stage will land, we can determine the cost of a launch. \n",
    "\n",
    "This information can be used if an alternate company wants to bid against SpaceX for a rocket launch.\n",
    "\n",
    "This dataset includes a record for each payload carried during a SpaceX mission into outer space.\n"
   ]
  },
  {
   "cell_type": "markdown",
   "metadata": {},
   "source": [
    "### Download the datasets\n",
    "\n",
    "This assignment requires you to load the spacex dataset.\n",
    "\n",
    "In many cases the dataset to be analyzed is available as a .CSV (comma separated values) file, perhaps on the internet. Click on the link below to download and save the dataset (.CSV file):\n",
    "\n",
    " <a href=\"https://cf-courses-data.s3.us.cloud-object-storage.appdomain.cloud/IBM-DS0321EN-SkillsNetwork/labs/module_2/data/Spacex.csv\" target=\"_blank\">Spacex DataSet</a>\n",
    "\n"
   ]
  },
  {
   "cell_type": "code",
   "execution_count": null,
   "metadata": {},
   "outputs": [],
   "source": [
    "!pip install sqlalchemy==1.3.9\n"
   ]
  },
  {
   "cell_type": "markdown",
   "metadata": {},
   "source": [
    "### Connect to the database\n",
    "\n",
    "Let us first load the SQL extension and establish a connection with the database\n"
   ]
  },
  {
   "cell_type": "code",
   "execution_count": null,
   "metadata": {},
   "outputs": [],
   "source": [
    "!pip install ipython-sql\n",
    "!pip install ipython-sql prettytable"
   ]
  },
  {
   "cell_type": "code",
   "execution_count": 3,
   "metadata": {},
   "outputs": [],
   "source": [
    "%load_ext sql"
   ]
  },
  {
   "cell_type": "code",
   "execution_count": 4,
   "metadata": {},
   "outputs": [],
   "source": [
    "import csv, sqlite3\n",
    "import prettytable\n",
    "prettytable.DEFAULT = 'DEFAULT'\n",
    "\n",
    "con = sqlite3.connect(\"my_data1.db\")\n",
    "cur = con.cursor()"
   ]
  },
  {
   "cell_type": "code",
   "execution_count": 5,
   "metadata": {},
   "outputs": [],
   "source": [
    "!pip install -q pandas"
   ]
  },
  {
   "cell_type": "code",
   "execution_count": 6,
   "metadata": {},
   "outputs": [],
   "source": [
    "%sql sqlite:///my_data1.db"
   ]
  },
  {
   "cell_type": "code",
   "execution_count": 7,
   "metadata": {},
   "outputs": [
    {
     "data": {
      "text/plain": [
       "101"
      ]
     },
     "execution_count": 7,
     "metadata": {},
     "output_type": "execute_result"
    }
   ],
   "source": [
    "import pandas as pd\n",
    "df = pd.read_csv(\"./Spacex.csv\")\n",
    "df.to_sql(\"SPACEXTBL\", con, if_exists='replace', index=False,method=\"multi\")"
   ]
  },
  {
   "cell_type": "markdown",
   "metadata": {},
   "source": [
    "**Note:This below code is added to remove blank rows from table**\n"
   ]
  },
  {
   "cell_type": "code",
   "execution_count": 8,
   "metadata": {},
   "outputs": [
    {
     "name": "stdout",
     "output_type": "stream",
     "text": [
      " * sqlite:///my_data1.db\n",
      "Done.\n"
     ]
    },
    {
     "data": {
      "text/plain": [
       "[]"
      ]
     },
     "execution_count": 8,
     "metadata": {},
     "output_type": "execute_result"
    }
   ],
   "source": [
    "#DROP THE TABLE IF EXISTS\n",
    "\n",
    "%sql DROP TABLE IF EXISTS SPACEXTABLE;"
   ]
  },
  {
   "cell_type": "code",
   "execution_count": 9,
   "metadata": {},
   "outputs": [
    {
     "name": "stdout",
     "output_type": "stream",
     "text": [
      " * sqlite:///my_data1.db\n",
      "Done.\n"
     ]
    },
    {
     "data": {
      "text/plain": [
       "[]"
      ]
     },
     "execution_count": 9,
     "metadata": {},
     "output_type": "execute_result"
    }
   ],
   "source": [
    "%sql create table SPACEXTABLE as select * from SPACEXTBL where Date is not null"
   ]
  },
  {
   "cell_type": "markdown",
   "metadata": {},
   "source": [
    "## Tasks\n",
    "\n",
    "Now write and execute SQL queries to solve the assignment tasks.\n",
    "\n",
    "**Note: If the column names are in mixed case enclose it in double quotes\n",
    "   For Example \"Landing_Outcome\"**\n",
    "\n",
    "### Task 1\n",
    "\n",
    "\n",
    "\n",
    "\n",
    "##### Display the names of the unique launch sites  in the space mission\n"
   ]
  },
  {
   "cell_type": "code",
   "execution_count": 10,
   "metadata": {},
   "outputs": [
    {
     "name": "stdout",
     "output_type": "stream",
     "text": [
      "('CCAFS LC-40',)\n",
      "('VAFB SLC-4E',)\n",
      "('KSC LC-39A',)\n",
      "('CCAFS SLC-40',)\n"
     ]
    }
   ],
   "source": [
    "import sqlite3\n",
    "import pandas as pd\n",
    "\n",
    "# Establish a connection to the SQLite database\n",
    "con = sqlite3.connect('spacex.db')\n",
    "\n",
    "# Create a table from the CSV file\n",
    "#df = pd.read_csv(\"https://cf-courses-data.s3.us.cloud-object-storage.appdomain.cloud/IBM-DS0321EN-SkillsNetwork/labs/module_2/data/Spacex.csv\")\n",
    "df.to_sql(\"SPACEXTBL\", con, if_exists='replace', index=False)\n",
    "\n",
    "# Execute the SQL query\n",
    "cur = con.cursor()\n",
    "cur.execute(\"SELECT DISTINCT Launch_Site FROM SPACEXTBL\")\n",
    "\n",
    "# Fetch and print the results\n",
    "results = cur.fetchall()\n",
    "for row in results:\n",
    "    print(row)\n",
    "\n",
    "# Close the connection\n",
    "con.close()"
   ]
  },
  {
   "cell_type": "markdown",
   "metadata": {},
   "source": [
    "\n",
    "### Task 2\n",
    "\n",
    "\n",
    "#####  Display 5 records where launch sites begin with the string 'CCA' \n"
   ]
  },
  {
   "cell_type": "code",
   "execution_count": null,
   "metadata": {},
   "outputs": [],
   "source": [
    "import sqlite3\n",
    "\n",
    "# Establish a connection to the SQLite database\n",
    "con = sqlite3.connect('spacex.db')\n",
    "cur = con.cursor()\n",
    "\n",
    "# Execute the SQL query\n",
    "cur.execute(\"\"\"\n",
    "    SELECT * FROM SPACEXTBL\n",
    "    WHERE \"Launch_Site\" LIKE 'CCA%'\n",
    "    LIMIT 5;\n",
    "\"\"\")\n",
    "\n",
    "# Fetch and print the results\n",
    "results = cur.fetchall()\n",
    "for row in results:\n",
    "    print(row)\n",
    "\n",
    "# Close the connection\n",
    "con.close()"
   ]
  },
  {
   "cell_type": "markdown",
   "metadata": {},
   "source": [
    "### Task 3\n",
    "\n",
    "\n",
    "\n",
    "\n",
    "##### Display the total payload mass carried by boosters launched by NASA (CRS)\n"
   ]
  },
  {
   "cell_type": "code",
   "execution_count": null,
   "metadata": {},
   "outputs": [],
   "source": [
    "import sqlite3\n",
    "\n",
    "# Establish a connection to the SQLite database\n",
    "con = sqlite3.connect('spacex.db')\n",
    "cur = con.cursor()\n",
    "\n",
    "# Execute the SQL query\n",
    "cur.execute(\"\"\"\n",
    "    SELECT SUM(Payload_Mass__kg_) \n",
    "    FROM SPACEXTBL \n",
    "    WHERE Customer = 'NASA (CRS)';\n",
    "\"\"\")\n",
    "\n",
    "# Fetch and print the results\n",
    "results = cur.fetchone()\n",
    "print(\"Total payload mass carried by NASA (CRS) boosters:\", results[0])\n",
    "\n",
    "# Close the connection\n",
    "con.close()"
   ]
  },
  {
   "cell_type": "markdown",
   "metadata": {},
   "source": [
    "### Task 4\n",
    "\n",
    "\n",
    "\n",
    "\n",
    "##### Display average payload mass carried by booster version F9 v1.1\n"
   ]
  },
  {
   "cell_type": "code",
   "execution_count": null,
   "metadata": {},
   "outputs": [],
   "source": [
    "import sqlite3\n",
    "\n",
    "# Establish a connection to the SQLite database\n",
    "con = sqlite3.connect('spacex.db')\n",
    "cur = con.cursor()\n",
    "\n",
    "# Execute the SQL query\n",
    "cur.execute(\"\"\"\n",
    "    SELECT AVG(Payload_Mass__kg_) \n",
    "    FROM SPACEXTBL \n",
    "    WHERE \"Booster_Version\" = 'F9 v1.1';\n",
    "\"\"\")\n",
    "\n",
    "# Fetch and print the results\n",
    "results = cur.fetchone()\n",
    "print(\"Average payload mass carried by F9 v1.1 booster:\", results[0])\n",
    "\n",
    "# Close the connection\n",
    "con.close()"
   ]
  },
  {
   "cell_type": "markdown",
   "metadata": {},
   "source": [
    "### Task 5\n",
    "\n",
    "##### List the date when the first succesful landing outcome in ground pad was acheived.\n",
    "\n",
    "\n",
    "_Hint:Use min function_ \n"
   ]
  },
  {
   "cell_type": "code",
   "execution_count": null,
   "metadata": {},
   "outputs": [],
   "source": [
    "import sqlite3\n",
    "\n",
    "# Establish a connection to the SQLite database\n",
    "con = sqlite3.connect('spacex.db')\n",
    "cur = con.cursor()\n",
    "\n",
    "# Execute the SQL query\n",
    "cur.execute(\"\"\"\n",
    "    SELECT MIN(Date) \n",
    "    FROM SPACEXTBL \n",
    "    WHERE \"Landing_Outcome\" = 'Success (ground pad)';\n",
    "\"\"\")\n",
    "\n",
    "# Fetch and print the results\n",
    "results = cur.fetchone()\n",
    "print(\"Date of first successful landing outcome in ground pad:\", results[0])\n",
    "\n",
    "# Close the connection\n",
    "con.close()"
   ]
  },
  {
   "cell_type": "markdown",
   "metadata": {},
   "source": [
    "### Task 6\n",
    "\n",
    "##### List the names of the boosters which have success in drone ship and have payload mass greater than 4000 but less than 6000\n"
   ]
  },
  {
   "cell_type": "code",
   "execution_count": null,
   "metadata": {},
   "outputs": [],
   "source": [
    "import sqlite3\n",
    "\n",
    "# Establish a connection to the SQLite database\n",
    "con = sqlite3.connect('spacex.db')\n",
    "cur = con.cursor()\n",
    "\n",
    "# Execute the SQL query\n",
    "cur.execute(\"\"\"\n",
    "    SELECT \"Booster_Version\" \n",
    "    FROM SPACEXTBL \n",
    "    WHERE \"Landing_Outcome\" = 'Success (drone ship)' \n",
    "    AND Payload_Mass__kg_ > 4000 \n",
    "    AND Payload_Mass__kg_ < 6000;\n",
    "\"\"\")\n",
    "\n",
    "# Fetch and print the results\n",
    "results = cur.fetchall()\n",
    "for row in results:\n",
    "    print(row[0])\n",
    "\n",
    "# Close the connection\n",
    "con.close()"
   ]
  },
  {
   "cell_type": "markdown",
   "metadata": {},
   "source": [
    "### Task 7\n",
    "\n",
    "\n",
    "\n",
    "\n",
    "##### List the total number of successful and failure mission outcomes\n"
   ]
  },
  {
   "cell_type": "code",
   "execution_count": null,
   "metadata": {},
   "outputs": [],
   "source": [
    "import sqlite3\n",
    "\n",
    "# Establish a connection to the SQLite database\n",
    "con = sqlite3.connect('spacex.db')\n",
    "cur = con.cursor()\n",
    "\n",
    "# Execute the SQL query\n",
    "cur.execute(\"\"\"\n",
    "    SELECT \n",
    "        SUM(CASE WHEN Mission_Outcome = 'Success' THEN 1 ELSE 0 END) AS Successful_Missions,\n",
    "        SUM(CASE WHEN Mission_Outcome = 'Failure' THEN 1 ELSE 0 END) AS Failed_Missions\n",
    "    FROM SPACEXTBL;\n",
    "\"\"\")\n",
    "\n",
    "# Fetch and print the results\n",
    "results = cur.fetchone()\n",
    "print(f\"Successful Missions: {results[0]}\")\n",
    "print(f\"Failed Missions: {results[1]}\")\n",
    "\n",
    "# Close the connection\n",
    "con.close()\n"
   ]
  },
  {
   "cell_type": "markdown",
   "metadata": {},
   "source": [
    "### Task 8\n",
    "\n",
    "\n",
    "\n",
    "##### List the   names of the booster_versions which have carried the maximum payload mass. Use a subquery\n"
   ]
  },
  {
   "cell_type": "code",
   "execution_count": null,
   "metadata": {},
   "outputs": [],
   "source": [
    "import sqlite3\n",
    "\n",
    "# Establish a connection to the SQLite database\n",
    "con = sqlite3.connect('spacex.db')\n",
    "cur = con.cursor()\n",
    "\n",
    "# Execute the SQL query\n",
    "cur.execute(\"\"\"\n",
    "    SELECT \"Booster_Version\" \n",
    "    FROM SPACEXTBL \n",
    "    WHERE Payload_Mass__kg_ = (\n",
    "        SELECT MAX(Payload_Mass__kg_) \n",
    "        FROM SPACEXTBL\n",
    "    );\n",
    "\"\"\")\n",
    "\n",
    "# Fetch and print the results\n",
    "results = cur.fetchall()\n",
    "for row in results:\n",
    "    print(row[0])\n",
    "\n",
    "# Close the connection\n",
    "con.close()"
   ]
  },
  {
   "cell_type": "markdown",
   "metadata": {},
   "source": [
    "### Task 9\n",
    "\n",
    "\n",
    "##### List the records which will display the month names, failure landing_outcomes in drone ship ,booster versions, launch_site for the months in year 2015.\n",
    "\n",
    "**Note: SQLLite does not support monthnames. So you need to use  substr(Date, 6,2) as month to get the months and substr(Date,0,5)='2015' for year.**\n"
   ]
  },
  {
   "cell_type": "code",
   "execution_count": null,
   "metadata": {},
   "outputs": [],
   "source": [
    "import sqlite3\n",
    "\n",
    "# Establish a connection to the SQLite database\n",
    "con = sqlite3.connect('spacex.db')\n",
    "cur = con.cursor()\n",
    "\n",
    "# Execute the SQL query\n",
    "cur.execute(\"\"\"\n",
    "    SELECT \n",
    "        CASE \n",
    "            WHEN SUBSTR(Date, 6, 2) = '01' THEN 'January'\n",
    "            WHEN SUBSTR(Date, 6, 2) = '02' THEN 'February'\n",
    "            WHEN SUBSTR(Date, 6, 2) = '03' THEN 'March'\n",
    "            WHEN SUBSTR(Date, 6, 2) = '04' THEN 'April'\n",
    "            WHEN SUBSTR(Date, 6, 2) = '05' THEN 'May'\n",
    "            WHEN SUBSTR(Date, 6, 2) = '06' THEN 'June'\n",
    "            WHEN SUBSTR(Date, 6, 2) = '07' THEN 'July'\n",
    "            WHEN SUBSTR(Date, 6, 2) = '08' THEN 'August'\n",
    "            WHEN SUBSTR(Date, 6, 2) = '09' THEN 'September'\n",
    "            WHEN SUBSTR(Date, 6, 2) = '10' THEN 'October'\n",
    "            WHEN SUBSTR(Date, 6, 2) = '11' THEN 'November'\n",
    "            WHEN SUBSTR(Date, 6, 2) = '12' THEN 'December'\n",
    "        END AS Month,\n",
    "        \"Landing_Outcome\",\n",
    "        \"Booster_Version\",\n",
    "        \"Launch_Site\"\n",
    "    FROM SPACEXTBL\n",
    "    WHERE SUBSTR(Date, 0, 5) = '2015'\n",
    "    AND \"Landing_Outcome\" LIKE '%drone ship%';\n",
    "\"\"\")\n",
    "\n",
    "# Fetch and print the results\n",
    "results = cur.fetchall()\n",
    "for row in results:\n",
    "    print(row)\n",
    "\n",
    "# Close the connection\n",
    "con.close()"
   ]
  },
  {
   "cell_type": "markdown",
   "metadata": {},
   "source": [
    "### Task 10\n",
    "\n",
    "\n",
    "\n",
    "\n",
    "##### Rank the count of landing outcomes (such as Failure (drone ship) or Success (ground pad)) between the date 2010-06-04 and 2017-03-20, in descending order.\n"
   ]
  },
  {
   "cell_type": "code",
   "execution_count": null,
   "metadata": {},
   "outputs": [],
   "source": [
    "import sqlite3\n",
    "\n",
    "# Establish a connection to the SQLite database\n",
    "con = sqlite3.connect('spacex.db')\n",
    "cur = con.cursor()\n",
    "\n",
    "# Execute the SQL query\n",
    "cur.execute(\"\"\"\n",
    "    SELECT \n",
    "        \"Landing_Outcome\",\n",
    "        COUNT(\"Landing_Outcome\") AS Outcome_Count\n",
    "    FROM SPACEXTBL\n",
    "    WHERE Date BETWEEN '2010-06-04' AND '2017-03-20'\n",
    "    GROUP BY \"Landing_Outcome\"\n",
    "    ORDER BY Outcome_Count DESC;\n",
    "\"\"\")\n",
    "\n",
    "# Fetch and print the results\n",
    "results = cur.fetchall()\n",
    "for row in results:\n",
    "    print(f\"Landing Outcome: {row[0]}, Count: {row[1]}\")\n",
    "\n",
    "# Close the connection\n",
    "con.close()"
   ]
  },
  {
   "cell_type": "markdown",
   "metadata": {},
   "source": [
    "### Reference Links\n",
    "\n",
    "* <a href =\"https://cf-courses-data.s3.us.cloud-object-storage.appdomain.cloud/IBMDeveloperSkillsNetwork-DB0201EN-SkillsNetwork/labs/Labs_Coursera_V5/labs/Lab%20-%20String%20Patterns%20-%20Sorting%20-%20Grouping/instructional-labs.md.html?origin=www.coursera.org\">Hands-on Lab : String Patterns, Sorting and Grouping</a>  \n",
    "\n",
    "*  <a  href=\"https://cf-courses-data.s3.us.cloud-object-storage.appdomain.cloud/IBMDeveloperSkillsNetwork-DB0201EN-SkillsNetwork/labs/Labs_Coursera_V5/labs/Lab%20-%20Built-in%20functions%20/Hands-on_Lab__Built-in_Functions.md.html?origin=www.coursera.org\">Hands-on Lab: Built-in functions</a>\n",
    "\n",
    "*  <a  href=\"https://cf-courses-data.s3.us.cloud-object-storage.appdomain.cloud/IBMDeveloperSkillsNetwork-DB0201EN-SkillsNetwork/labs/Labs_Coursera_V5/labs/Lab%20-%20Sub-queries%20and%20Nested%20SELECTs%20/instructional-labs.md.html?origin=www.coursera.org\">Hands-on Lab : Sub-queries and Nested SELECT Statements</a>\n",
    "\n",
    "*   <a href=\"https://cf-courses-data.s3.us.cloud-object-storage.appdomain.cloud/IBMDeveloperSkillsNetwork-DB0201EN-SkillsNetwork/labs/Module%205/DB0201EN-Week3-1-3-SQLmagic.ipynb\">Hands-on Tutorial: Accessing Databases with SQL magic</a>\n",
    "\n",
    "*  <a href= \"https://cf-courses-data.s3.us.cloud-object-storage.appdomain.cloud/IBMDeveloperSkillsNetwork-DB0201EN-SkillsNetwork/labs/Module%205/DB0201EN-Week3-1-4-Analyzing.ipynb\">Hands-on Lab: Analyzing a real World Data Set</a>\n",
    "\n",
    "\n"
   ]
  },
  {
   "cell_type": "markdown",
   "metadata": {},
   "source": [
    "## Author(s)\n",
    "\n",
    "<h4> Lakshmi Holla </h4>\n"
   ]
  },
  {
   "cell_type": "markdown",
   "metadata": {},
   "source": [
    "## Other Contributors\n",
    "\n",
    "<h4> Rav Ahuja </h4>\n"
   ]
  },
  {
   "cell_type": "code",
   "execution_count": null,
   "metadata": {},
   "outputs": [
    {
     "name": "stdout",
     "output_type": "stream",
     "text": [
      "Successful Missions: 98\n",
      "Failed Missions: 0\n"
     ]
    }
   ],
   "source": [
    "#Calculate the total number of successful and failure mission outcomes\n",
    "import sqlite3\n",
    "\n",
    "# Establish a connection to the SQLite database\n",
    "con = sqlite3.connect('spacex.db')\n",
    "cur = con.cursor()\n",
    "\n",
    "# Calculate the total number of successful and failure mission outcomes\n",
    "cur.execute(\"\"\"\n",
    "    SELECT \n",
    "        SUM(CASE WHEN Mission_Outcome = 'Success' THEN 1 ELSE 0 END) AS Successful_Missions,\n",
    "        SUM(CASE WHEN Mission_Outcome = 'Failure' THEN 1 ELSE 0 END) AS Failed_Missions\n",
    "    FROM SPACEXTBL;\n",
    "\"\"\")\n",
    "\n",
    "# Fetch and print the results\n",
    "results = cur.fetchone()\n",
    "print(f\"Successful Missions: {results[0]}\")\n",
    "print(f\"Failed Missions: {results[1]}\")\n",
    "\n",
    "# Close the connection\n",
    "con.close()"
   ]
  },
  {
   "cell_type": "code",
   "execution_count": null,
   "metadata": {},
   "outputs": [
    {
     "name": "stdout",
     "output_type": "stream",
     "text": [
      "F9 B5 B1048.4\n",
      "F9 B5 B1049.4\n",
      "F9 B5 B1051.3\n",
      "F9 B5 B1056.4\n",
      "F9 B5 B1048.5\n",
      "F9 B5 B1051.4\n",
      "F9 B5 B1049.5\n",
      "F9 B5 B1060.2 \n",
      "F9 B5 B1058.3 \n",
      "F9 B5 B1051.6\n",
      "F9 B5 B1060.3\n",
      "F9 B5 B1049.7 \n"
     ]
    }
   ],
   "source": [
    "# List the names of the booster which have carried the maximum payload mass\n",
    "import sqlite3\n",
    "\n",
    "# Establish a connection to the SQLite database\n",
    "con = sqlite3.connect('spacex.db')\n",
    "cur = con.cursor()\n",
    "# List the names of the booster which have carried the maximum payload mass\n",
    "cur.execute(\"\"\"\n",
    "    SELECT \"Booster_Version\" \n",
    "    FROM SPACEXTBL \n",
    "    WHERE PAYLOAD_MASS__KG_ = (\n",
    "        SELECT MAX(PAYLOAD_MASS__KG_) \n",
    "        FROM SPACEXTBL\n",
    "    );\n",
    "\"\"\")\n",
    "# Fetch and print the results\n",
    "results = cur.fetchall()\n",
    "for row in results:\n",
    "    print(row[0])\n",
    "# Close the connection\n",
    "con.close()"
   ]
  },
  {
   "cell_type": "code",
   "execution_count": 17,
   "metadata": {},
   "outputs": [
    {
     "name": "stdout",
     "output_type": "stream",
     "text": [
      "('Failure (drone ship)', 'F9 v1.1 B1012', 'CCAFS LC-40')\n",
      "('Failure (drone ship)', 'F9 v1.1 B1015', 'CCAFS LC-40')\n"
     ]
    }
   ],
   "source": [
    "# List the failed landing_outcomes in drone ship, their booster versions, and launch site names for in year 2015\n",
    "import sqlite3\n",
    "\n",
    "# Establish a connection to the SQLite database\n",
    "con = sqlite3.connect('spacex.db')\n",
    "cur = con.cursor()\n",
    "\n",
    "# List the failed landing outcomes in drone ship, their booster versions, and launch site names for the year 2015\n",
    "cur.execute(\"\"\"\n",
    "    SELECT \n",
    "        \"Landing_Outcome\",\n",
    "        \"Booster_Version\",\n",
    "        \"Launch_Site\"\n",
    "    FROM SPACEXTBL\n",
    "    WHERE SUBSTR(Date, 0, 5) = '2015'\n",
    "    AND \"Landing_Outcome\" = 'Failure (drone ship)';\n",
    "\"\"\")\n",
    "\n",
    "# Fetch and print the results\n",
    "results = cur.fetchall()\n",
    "for row in results:\n",
    "    print(row)\n",
    "\n",
    "# Close the connection\n",
    "con.close()"
   ]
  },
  {
   "cell_type": "code",
   "execution_count": 19,
   "metadata": {},
   "outputs": [
    {
     "name": "stdout",
     "output_type": "stream",
     "text": [
      "Landing Outcome: No attempt, Count: 10\n",
      "Landing Outcome: Success (drone ship), Count: 5\n",
      "Landing Outcome: Failure (drone ship), Count: 5\n",
      "Landing Outcome: Success (ground pad), Count: 3\n",
      "Landing Outcome: Controlled (ocean), Count: 3\n",
      "Landing Outcome: Uncontrolled (ocean), Count: 2\n",
      "Landing Outcome: Failure (parachute), Count: 2\n",
      "Landing Outcome: Precluded (drone ship), Count: 1\n"
     ]
    }
   ],
   "source": [
    "# Rank the count of landing outcomes (such as Failure (drone ship) or Success (ground pad)) between the date 2010-06-04 and 2017-03-20, in descending order\n",
    "import sqlite3\n",
    "\n",
    "# Establish a connection to the SQLite database\n",
    "con = sqlite3.connect('spacex.db')\n",
    "cur = con.cursor()\n",
    "\n",
    "cur.execute(\"\"\"\n",
    "    SELECT \n",
    "        \"Landing_Outcome\",\n",
    "        COUNT(\"Landing_Outcome\") AS Outcome_Count\n",
    "    FROM SPACEXTBL\n",
    "    WHERE Date BETWEEN '2010-06-04' AND '2017-03-20'\n",
    "    GROUP BY \"Landing_Outcome\"\n",
    "    ORDER BY Outcome_Count DESC;\n",
    "\"\"\")\n",
    "\n",
    "# Fetch and print the results\n",
    "results = cur.fetchall()\n",
    "for row in results:\n",
    "    print(f\"Landing Outcome: {row[0]}, Count: {row[1]}\")\n",
    "\n",
    "# Close the connection\n",
    "con.close()"
   ]
  },
  {
   "cell_type": "markdown",
   "metadata": {},
   "source": [
    "<!--\n",
    "## Change log\n",
    "| Date | Version | Changed by | Change Description |\n",
    "|------|--------|--------|---------|\n",
    "| 2024-07-10 | 1.1 |Anita Verma | Changed Version|\n",
    "| 2021-07-09 | 0.2 |Lakshmi Holla | Changes made in magic sql|\n",
    "| 2021-05-20 | 0.1 |Lakshmi Holla | Created Initial Version |\n",
    "-->\n"
   ]
  },
  {
   "cell_type": "markdown",
   "metadata": {},
   "source": [
    "## <h3 align=\"center\"> © IBM Corporation 2021. All rights reserved. <h3/>\n"
   ]
  }
 ],
 "metadata": {
  "kernelspec": {
   "display_name": ".venv",
   "language": "python",
   "name": "python3"
  },
  "language_info": {
   "codemirror_mode": {
    "name": "ipython",
    "version": 3
   },
   "file_extension": ".py",
   "mimetype": "text/x-python",
   "name": "python",
   "nbconvert_exporter": "python",
   "pygments_lexer": "ipython3",
   "version": "3.11.9"
  },
  "prev_pub_hash": "da902c2e8070fbe82a1211fe564834ebcb50f7fc45ad4040b3068861f12c70b8"
 },
 "nbformat": 4,
 "nbformat_minor": 4
}
